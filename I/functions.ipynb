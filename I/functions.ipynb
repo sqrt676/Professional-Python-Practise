{
 "cells": [
  {
   "cell_type": "markdown",
   "metadata": {},
   "source": [
    "author:sumitpandey026@gmail.com [@sqrt676]\n",
    "# Syllabus\n",
    "#### Functions\n",
    "'''\n",
    "- **Key Concepts:**\n",
    "  - Define functions using `def`, understand scope, and work with local and global variables.\n",
    "  - Learn about **default arguments**, **variable-length arguments** (`*args`, `**kwargs`), and **lambda functions**.\n",
    "\n",
    "- **Advanced Function Topics:**\n",
    "  - Explore **function annotations** and **type hints** to improve code clarity.\n",
    "  - Experiment with nested functions and closures.\n",
    "\n",
    "- **Practice:**\n",
    "  - Write functions for various tasks, ensuring you handle different types of arguments and return values effectively.'''"
   ]
  },
  {
   "cell_type": "code",
   "execution_count": 9,
   "metadata": {},
   "outputs": [
    {
     "name": "stdout",
     "output_type": "stream",
     "text": [
      "Inside function: 10 5\n",
      "Outside function: 10\n"
     ]
    }
   ],
   "source": [
    "x = 10  # Global variable\n",
    "\n",
    "def example():\n",
    "    y = 5  # Local variable\n",
    "    print(\"Inside function:\", x, y)  # Access global and local variables\n",
    "\n",
    "example()\n",
    "print(\"Outside function:\", x)  # Access only global variable\n",
    "# print(y)  # This would raise an error because 'y' is not in the global scope\n"
   ]
  },
  {
   "cell_type": "code",
   "execution_count": 3,
   "metadata": {},
   "outputs": [
    {
     "name": "stdout",
     "output_type": "stream",
     "text": [
      "20\n"
     ]
    }
   ],
   "source": [
    "x = 10  # Global variable\n",
    "\n",
    "def modify_global():\n",
    "    global x  # Declare that we are using the global variable\n",
    "    x = 20\n",
    "\n",
    "modify_global()\n",
    "print(x)  # Output: 20\n"
   ]
  },
  {
   "cell_type": "code",
   "execution_count": 6,
   "metadata": {},
   "outputs": [
    {
     "name": "stdout",
     "output_type": "stream",
     "text": [
      "Inside inner_function: 5 10\n"
     ]
    }
   ],
   "source": [
    "def outer_function():\n",
    "    a = 5  # Enclosing scope variable\n",
    "\n",
    "    def inner_function():\n",
    "        b = 10  # Local to inner_function\n",
    "        print(\"Inside inner_function:\", a, b)  # Access 'a' from outer function and 'b' from inner function\n",
    "\n",
    "    inner_function()\n",
    "    # print(b)  # This would raise an error because 'b' is not in this scope\n",
    "global a\n",
    "a=10 # still the a's val chnages iin the outer function\n",
    "outer_function()\n"
   ]
  },
  {
   "cell_type": "markdown",
   "metadata": {},
   "source": [
    "Summary\n",
    "global Keyword: Used to declare and modify global (module-level) variables inside functions or methods. It does not affect instance or class variables.\n",
    "Instance Variables: Specific to an instance of the class and created using self.\n",
    "Class Variables: Shared among all instances of the class and defined directly in the class body.\n",
    "The global keyword and instance/class variables serve distinct roles. While global manages variables at the module level, instance and class variables handle data specific to object instances or the class itself."
   ]
  },
  {
   "cell_type": "code",
   "execution_count": null,
   "metadata": {},
   "outputs": [],
   "source": []
  }
 ],
 "metadata": {
  "kernelspec": {
   "display_name": "dao2",
   "language": "python",
   "name": "python3"
  },
  "language_info": {
   "codemirror_mode": {
    "name": "ipython",
    "version": 3
   },
   "file_extension": ".py",
   "mimetype": "text/x-python",
   "name": "python",
   "nbconvert_exporter": "python",
   "pygments_lexer": "ipython3",
   "version": "3.10.0"
  }
 },
 "nbformat": 4,
 "nbformat_minor": 2
}
